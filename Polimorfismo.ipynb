{
  "nbformat": 4,
  "nbformat_minor": 0,
  "metadata": {
    "colab": {
      "name": "Polimorfismo.ipynb",
      "provenance": [],
      "collapsed_sections": [],
      "authorship_tag": "ABX9TyP3KVIDIocgP4UTc1gQbb7x",
      "include_colab_link": true
    },
    "kernelspec": {
      "name": "python3",
      "display_name": "Python 3"
    },
    "language_info": {
      "name": "python"
    }
  },
  "cells": [
    {
      "cell_type": "markdown",
      "metadata": {
        "id": "view-in-github",
        "colab_type": "text"
      },
      "source": [
        "<a href=\"https://colab.research.google.com/github/dan01silva/PythonLearn/blob/collections/Polimorfismo.ipynb\" target=\"_parent\"><img src=\"https://colab.research.google.com/assets/colab-badge.svg\" alt=\"Open In Colab\"/></a>"
      ]
    },
    {
      "cell_type": "code",
      "metadata": {
        "id": "03j-138GtOpE"
      },
      "source": [
        "class Conta:\n",
        "\n",
        "  def __init__(self, codigo):\n",
        "    self._codigo = codigo\n",
        "    self._saldo = 0\n",
        "\n",
        "  def __lt__\n",
        "\n",
        "  def deposita(self, valor):\n",
        "    self._saldo += valor\n",
        "  \n",
        "  def __str__(self):\n",
        "    return \"[>> Código da conta: {} Saldo: {} <<]\".format(self._codigo, self._saldo)"
      ],
      "execution_count": null,
      "outputs": []
    },
    {
      "cell_type": "code",
      "metadata": {
        "colab": {
          "base_uri": "https://localhost:8080/"
        },
        "id": "ocv5Unb3xEAi",
        "outputId": "252060d5-0468-45d4-b607-2dac9b21b63b"
      },
      "source": [
        "print(Conta(88))"
      ],
      "execution_count": null,
      "outputs": [
        {
          "output_type": "stream",
          "name": "stdout",
          "text": [
            "[>> Código da conta: 88 Saldo: 0 <<]\n"
          ]
        }
      ]
    },
    {
      "cell_type": "code",
      "metadata": {
        "id": "CE15BI9hx9xR"
      },
      "source": [
        "class ContaCorrente(Conta):\n",
        "  def passa_o_mes(self):\n",
        "    self._saldo -= 2\n",
        "\n",
        "class ContaPoupança(Conta):\n",
        "  def passa_o_mes(self):\n",
        "    self._saldo *= 1.01\n",
        "    self._saldo -= 3"
      ],
      "execution_count": null,
      "outputs": []
    },
    {
      "cell_type": "code",
      "metadata": {
        "colab": {
          "base_uri": "https://localhost:8080/"
        },
        "id": "WBf0GgJWy5wQ",
        "outputId": "30a902d5-e23f-4aee-c88b-4ad8b152f8c1"
      },
      "source": [
        "conta16 = ContaCorrente(16)\n",
        "conta16.deposita(2300)\n",
        "conta16.passa_o_mes()\n",
        "print(conta16)"
      ],
      "execution_count": null,
      "outputs": [
        {
          "output_type": "stream",
          "name": "stdout",
          "text": [
            "[>> Código da conta: 16 Saldo: 2298 <<]\n"
          ]
        }
      ]
    },
    {
      "cell_type": "code",
      "metadata": {
        "colab": {
          "base_uri": "https://localhost:8080/"
        },
        "id": "zhpt5REtzUet",
        "outputId": "7e009d6e-118e-4d5a-ae0b-501b8639e84e"
      },
      "source": [
        "conta17 = ContaPoupança(17)\n",
        "conta17.deposita(1500)\n",
        "conta17.passa_o_mes()\n",
        "print(conta17)\n",
        "\n",
        "for conta is contas:\n",
        "  conta.passa_o_mes()t\n",
        "  print(conta)"
      ],
      "execution_count": null,
      "outputs": [
        {
          "output_type": "stream",
          "name": "stdout",
          "text": [
            "[>> Código da conta: 17 Saldo: 1512.0 <<]\n"
          ]
        }
      ]
    },
    {
      "cell_type": "markdown",
      "metadata": {
        "id": "tpRdhM1Y1z3M"
      },
      "source": [
        "#Quando quisermos utilizar array, para trabalhar com númericos costume usar NUMPY"
      ]
    },
    {
      "cell_type": "code",
      "metadata": {
        "colab": {
          "base_uri": "https://localhost:8080/"
        },
        "id": "wpcd5Ygz0uDB",
        "outputId": "698d230b-8b70-45a4-aa9a-0ebed72931cb"
      },
      "source": [
        "!pip install numpy"
      ],
      "execution_count": null,
      "outputs": [
        {
          "output_type": "stream",
          "name": "stdout",
          "text": [
            "Requirement already satisfied: numpy in /usr/local/lib/python3.7/dist-packages (1.19.5)\n"
          ]
        }
      ]
    },
    {
      "cell_type": "code",
      "metadata": {
        "id": "wcLi6Eis1sKP"
      },
      "source": [
        "import array as ar"
      ],
      "execution_count": null,
      "outputs": []
    },
    {
      "cell_type": "code",
      "metadata": {
        "id": "UZzvbHdH2A02",
        "colab": {
          "base_uri": "https://localhost:8080/"
        },
        "outputId": "d9febfd5-0503-447b-bfd9-32aaf42f6888"
      },
      "source": [
        "import numpy as np\n",
        "numeros = np.array([1,3.5])\n",
        "numeros"
      ],
      "execution_count": null,
      "outputs": [
        {
          "output_type": "execute_result",
          "data": {
            "text/plain": [
              "array([1. , 3.5])"
            ]
          },
          "metadata": {},
          "execution_count": 22
        }
      ]
    },
    {
      "cell_type": "code",
      "metadata": {
        "id": "piS05A5kMBQ1",
        "colab": {
          "base_uri": "https://localhost:8080/"
        },
        "outputId": "209df06b-0fc9-476a-d67a-d6e3d5d661f3"
      },
      "source": [
        "numeros + 1"
      ],
      "execution_count": null,
      "outputs": [
        {
          "output_type": "execute_result",
          "data": {
            "text/plain": [
              "array([2. , 4.5])"
            ]
          },
          "metadata": {},
          "execution_count": 23
        }
      ]
    },
    {
      "cell_type": "code",
      "metadata": {
        "id": "lx4WxElNNz-T"
      },
      "source": [
        "class ContaSalario:\n",
        "\n",
        "  def __init__(self, codigo):\n",
        "    self._codigo = codigo\n",
        "    self._saldo = 0\n",
        "\n",
        "  #Definindo o criterio de igualdade \n",
        "  def __eq__(self, outro):\n",
        "    if type(outro) != ContaSalario:\n",
        "      return False\n",
        "\n",
        "    return self._codigo == outro._codigo and self._saldo == outro._saldo\n",
        "\n",
        "  #Criando critério natural de ordenação\n",
        "  def __lt__(self, outro):\n",
        "    if self._saldo != outro._saldo:\n",
        "      return self._saldo < outro._saldo\n",
        "    return self._codigo < outro._codigo\n",
        "\n",
        "  def deposita(self, valor):\n",
        "    self._saldo += valor\n",
        "  \n",
        "  def __str__(self):\n",
        "    return \"[>> Código da conta: {} - Saldo: {} <<]\".format(self._codigo, self._saldo)"
      ],
      "execution_count": 68,
      "outputs": []
    },
    {
      "cell_type": "code",
      "metadata": {
        "id": "7AG98DNROENT"
      },
      "source": [
        "conta1s = ContaSalario(37)"
      ],
      "execution_count": 14,
      "outputs": []
    },
    {
      "cell_type": "code",
      "metadata": {
        "id": "1sDT52NjPUij"
      },
      "source": [
        "conta2s = ContaSalario(37)"
      ],
      "execution_count": 15,
      "outputs": []
    },
    {
      "cell_type": "code",
      "metadata": {
        "colab": {
          "base_uri": "https://localhost:8080/"
        },
        "id": "U6JlnoHeP72r",
        "outputId": "bcdb984d-a222-4384-b7b1-6dc3966cb541"
      },
      "source": [
        "conta2s.deposita(100.)\n",
        "conta2s == conta1s  "
      ],
      "execution_count": 17,
      "outputs": [
        {
          "output_type": "execute_result",
          "data": {
            "text/plain": [
              "False"
            ]
          },
          "metadata": {},
          "execution_count": 17
        }
      ]
    },
    {
      "cell_type": "code",
      "metadata": {
        "colab": {
          "base_uri": "https://localhost:8080/"
        },
        "id": "Zrac3K_bQyjE",
        "outputId": "cb6823b2-1804-48d0-cdf2-9438a499f310"
      },
      "source": [
        "isinstance(conta1s, ContaSalario) # veificado se o [0] é uma  instância do [1]"
      ],
      "execution_count": 18,
      "outputs": [
        {
          "output_type": "execute_result",
          "data": {
            "text/plain": [
              "True"
            ]
          },
          "metadata": {},
          "execution_count": 18
        }
      ]
    },
    {
      "cell_type": "markdown",
      "metadata": {
        "id": "UN7LS4_rRh6D"
      },
      "source": [
        ""
      ]
    },
    {
      "cell_type": "markdown",
      "metadata": {
        "id": "MFPwLY5iRiQM"
      },
      "source": [
        "#Builtins como enumerated, range e desempacotamento automatico de tuplas"
      ]
    },
    {
      "cell_type": "code",
      "metadata": {
        "colab": {
          "base_uri": "https://localhost:8080/"
        },
        "id": "0j5me3i6RltN",
        "outputId": "b856dd86-eeea-4259-f504-b5f89b00c479"
      },
      "source": [
        "idades = [15, 87, 65, 56, 32, 49, 37]\n",
        "\n",
        "\n",
        "for i in range(len(idades)):\n",
        "  print(i, idades[i]) "
      ],
      "execution_count": 25,
      "outputs": [
        {
          "output_type": "stream",
          "name": "stdout",
          "text": [
            "0 15\n",
            "1 87\n",
            "2 65\n",
            "3 56\n",
            "4 32\n",
            "5 49\n",
            "6 37\n"
          ]
        }
      ]
    },
    {
      "cell_type": "code",
      "metadata": {
        "colab": {
          "base_uri": "https://localhost:8080/"
        },
        "id": "1Crj4YfcVMeL",
        "outputId": "f904014e-6f38-4f04-a87d-948659599517"
      },
      "source": [
        "enumerate(idades)"
      ],
      "execution_count": 26,
      "outputs": [
        {
          "output_type": "execute_result",
          "data": {
            "text/plain": [
              "<enumerate at 0x7f66f9a5bc30>"
            ]
          },
          "metadata": {},
          "execution_count": 26
        }
      ]
    },
    {
      "cell_type": "code",
      "metadata": {
        "colab": {
          "base_uri": "https://localhost:8080/"
        },
        "id": "-zosdf_uVPo3",
        "outputId": "79883000-6ea1-43fd-c416-94f4c35f7437"
      },
      "source": [
        "list(range(len(idades))) #forçando a geração de valores"
      ],
      "execution_count": 28,
      "outputs": [
        {
          "output_type": "execute_result",
          "data": {
            "text/plain": [
              "[0, 1, 2, 3, 4, 5, 6]"
            ]
          },
          "metadata": {},
          "execution_count": 28
        }
      ]
    },
    {
      "cell_type": "code",
      "metadata": {
        "colab": {
          "base_uri": "https://localhost:8080/"
        },
        "id": "c5Zie2NUVWVs",
        "outputId": "51063c7e-edd1-43c3-c653-061a26db1055"
      },
      "source": [
        "list(enumerate(idades)) #gerado a lista"
      ],
      "execution_count": 29,
      "outputs": [
        {
          "output_type": "execute_result",
          "data": {
            "text/plain": [
              "[(0, 15), (1, 87), (2, 65), (3, 56), (4, 32), (5, 49), (6, 37)]"
            ]
          },
          "metadata": {},
          "execution_count": 29
        }
      ]
    },
    {
      "cell_type": "code",
      "metadata": {
        "colab": {
          "base_uri": "https://localhost:8080/"
        },
        "id": "RlqvoQ87Veyr",
        "outputId": "47600fab-db74-4e5d-ab0c-44ab43cbc117"
      },
      "source": [
        "for value in enumerate(idades): #gerando de forma Lazy\n",
        "  print(value)"
      ],
      "execution_count": 30,
      "outputs": [
        {
          "output_type": "stream",
          "name": "stdout",
          "text": [
            "(0, 15)\n",
            "(1, 87)\n",
            "(2, 65)\n",
            "(3, 56)\n",
            "(4, 32)\n",
            "(5, 49)\n",
            "(6, 37)\n"
          ]
        }
      ]
    },
    {
      "cell_type": "code",
      "metadata": {
        "colab": {
          "base_uri": "https://localhost:8080/"
        },
        "id": "pBlY85M8WPPh",
        "outputId": "bcc663e8-5777-49bf-b609-4055d55d1f52"
      },
      "source": [
        "for indice, idade in enumerate(sorted(idades)):# unpacking de cada tupla \n",
        "  print(indice, \"-\", idade)"
      ],
      "execution_count": 35,
      "outputs": [
        {
          "output_type": "stream",
          "name": "stdout",
          "text": [
            "0 - 15\n",
            "1 - 32\n",
            "2 - 37\n",
            "3 - 37\n",
            "4 - 45\n",
            "5 - 49\n",
            "6 - 56\n",
            "7 - 87\n"
          ]
        }
      ]
    },
    {
      "cell_type": "code",
      "metadata": {
        "colab": {
          "base_uri": "https://localhost:8080/"
        },
        "id": "5Ur6r1EnXXSb",
        "outputId": "93a2a463-b64d-4de2-964d-ab6609058f44"
      },
      "source": [
        "idades = [15,87,37,45,56,32,49,37]\n",
        "for i in range(len(idades)):\n",
        "    print(i,idades[i])"
      ],
      "execution_count": 44,
      "outputs": [
        {
          "output_type": "stream",
          "name": "stdout",
          "text": [
            "0 15\n",
            "1 87\n",
            "2 37\n",
            "3 45\n",
            "4 56\n",
            "5 32\n",
            "6 49\n",
            "7 37\n"
          ]
        }
      ]
    },
    {
      "cell_type": "code",
      "metadata": {
        "colab": {
          "base_uri": "https://localhost:8080/"
        },
        "id": "YrpXmGN5X0z2",
        "outputId": "fa9c90d9-f22e-477a-f32e-bf43e061d1ec"
      },
      "source": [
        "sorted(idades)\n",
        "list(reversed(sorted(idades)))"
      ],
      "execution_count": 50,
      "outputs": [
        {
          "output_type": "execute_result",
          "data": {
            "text/plain": [
              "[87, 56, 49, 45, 37, 37, 32, 15]"
            ]
          },
          "metadata": {},
          "execution_count": 50
        }
      ]
    },
    {
      "cell_type": "code",
      "metadata": {
        "colab": {
          "base_uri": "https://localhost:8080/"
        },
        "id": "qCapf1E9YbBn",
        "outputId": "6165fd40-043d-4144-d8e8-1774968f2ac4"
      },
      "source": [
        "sorted(idades, reverse=True)# sorted não é mutavel, devolve uma vizualização da ordenação(uma nova lista)"
      ],
      "execution_count": 48,
      "outputs": [
        {
          "output_type": "execute_result",
          "data": {
            "text/plain": [
              "[87, 56, 49, 45, 37, 37, 32, 15]"
            ]
          },
          "metadata": {},
          "execution_count": 48
        }
      ]
    },
    {
      "cell_type": "code",
      "metadata": {
        "id": "bjR1U-fCZ_Ko"
      },
      "source": [
        "idades.sort() # ordena a lista fisicamente"
      ],
      "execution_count": 51,
      "outputs": []
    },
    {
      "cell_type": "code",
      "metadata": {
        "id": "LjVL_2LIaBtC"
      },
      "source": [
        "nomes = [\"guilherme\", \"Daniela\", \"Paulo\"]\n",
        "sorted(nomes)"
      ],
      "execution_count": null,
      "outputs": []
    },
    {
      "cell_type": "code",
      "metadata": {
        "id": "8Q9tga6WkGsD"
      },
      "source": [
        "conta_do_guilherme = ContaSalario(17)\n",
        "conta_do_guilherme.deposita(500)\n",
        "\n",
        "conta_da_daniela = ContaSalario(3)\n",
        "conta_da_daniela.deposita(500)\n",
        "\n",
        "conta_do_paulo = ContaSalario(133)\n",
        "conta_do_paulo.deposita(200)\n",
        "\n",
        "contas = [conta_do_guilherme, conta_da_daniela, conta_do_paulo]"
      ],
      "execution_count": 74,
      "outputs": []
    },
    {
      "cell_type": "code",
      "metadata": {
        "colab": {
          "base_uri": "https://localhost:8080/"
        },
        "id": "oOGyaGB6kH0c",
        "outputId": "e3c56cd2-ab4f-41ae-ffac-bc2d8816c633"
      },
      "source": [
        "conta_do_guilherme < conta_da_daniela"
      ],
      "execution_count": 55,
      "outputs": [
        {
          "output_type": "execute_result",
          "data": {
            "text/plain": [
              "True"
            ]
          },
          "metadata": {},
          "execution_count": 55
        }
      ]
    },
    {
      "cell_type": "code",
      "metadata": {
        "colab": {
          "base_uri": "https://localhost:8080/"
        },
        "id": "lksqW21skOXM",
        "outputId": "32a2935b-7d2c-4809-8d0b-69c20d7b5d0b"
      },
      "source": [
        "for conta in sorted(contas):\n",
        "  print(conta)"
      ],
      "execution_count": 75,
      "outputs": [
        {
          "output_type": "stream",
          "name": "stdout",
          "text": [
            "[>> Código da conta: 133 - Saldo: 200 <<]\n",
            "[>> Código da conta: 3 - Saldo: 500 <<]\n",
            "[>> Código da conta: 17 - Saldo: 500 <<]\n"
          ]
        }
      ]
    },
    {
      "cell_type": "code",
      "metadata": {
        "colab": {
          "base_uri": "https://localhost:8080/"
        },
        "id": "wL3tWe1nkQYz",
        "outputId": "a067afc0-b9e2-4251-f92e-8015b9357554"
      },
      "source": [
        "for conta in sorted(contas,reverse=True):\n",
        "  print(conta)"
      ],
      "execution_count": 57,
      "outputs": [
        {
          "output_type": "stream",
          "name": "stdout",
          "text": [
            "[>> Código da conta: 3 - Saldo: 1000 <<]\n",
            "[>> Código da conta: 133 - Saldo: 510 <<]\n",
            "[>> Código da conta: 17 - Saldo: 500 <<]\n"
          ]
        }
      ]
    },
    {
      "cell_type": "code",
      "metadata": {
        "colab": {
          "base_uri": "https://localhost:8080/"
        },
        "id": "qzEhEobDkvH5",
        "outputId": "c403773d-638c-43e9-96e5-ae575a715af0"
      },
      "source": [
        "from operator import attrgetter\n",
        "\n",
        "for conta in sorted(contas, key=attrgetter(\"_saldo\",  \"_codigo\")):\n",
        "  print(conta)"
      ],
      "execution_count": 67,
      "outputs": [
        {
          "output_type": "stream",
          "name": "stdout",
          "text": [
            "[>> Código da conta: 3 - Saldo: 500 <<]\n",
            "[>> Código da conta: 17 - Saldo: 500 <<]\n",
            "[>> Código da conta: 133 - Saldo: 500 <<]\n"
          ]
        }
      ]
    },
    {
      "cell_type": "markdown",
      "metadata": {
        "id": "8hJvJBReomOy"
      },
      "source": [
        "#total_ordering"
      ]
    },
    {
      "cell_type": "code",
      "metadata": {
        "id": "ecvf5bYpmT97"
      },
      "source": [
        "from functools import total_ordering\n",
        "\n",
        "@total_ordering\n",
        "class ContaSalario:\n",
        "\n",
        "  def __init__(self, codigo):\n",
        "    self._codigo = codigo\n",
        "    self._saldo = 0\n",
        "\n",
        "  #Definindo o criterio de igualdade \n",
        "  def __eq__(self, outro):\n",
        "    if type(outro) != ContaSalario:\n",
        "      return False\n",
        "\n",
        "    return self._codigo == outro._codigo and self._saldo == outro._saldo\n",
        "\n",
        "  #Criando critério natural de ordenação\n",
        "  def __lt__(self, outro):\n",
        "    if self._saldo != outro._saldo:\n",
        "      return self._saldo < outro._saldo\n",
        "    return self._codigo < outro._codigo\n",
        "  \n",
        "  \n",
        "\n",
        "  def deposita(self, valor):\n",
        "    self._saldo += valor\n",
        "  \n",
        "  def __str__(self):\n",
        "    return \"[>> Código da conta: {} - Saldo: {} <<]\".format(self._codigo, self._saldo)"
      ],
      "execution_count": 76,
      "outputs": []
    },
    {
      "cell_type": "code",
      "metadata": {
        "id": "TKUmPeCJmz6H"
      },
      "source": [
        "conta_do_guilherme = ContaSalario(17)\n",
        "conta_do_guilherme.deposita(500)\n",
        "\n",
        "conta_da_daniela = ContaSalario(3)\n",
        "conta_da_daniela.deposita(500)\n",
        "\n",
        "conta_do_paulo = ContaSalario(133)\n",
        "conta_do_paulo.deposita(200)\n",
        "\n",
        "contas = [conta_do_guilherme, conta_da_daniela, conta_do_paulo]"
      ],
      "execution_count": 77,
      "outputs": []
    },
    {
      "cell_type": "code",
      "metadata": {
        "colab": {
          "base_uri": "https://localhost:8080/"
        },
        "id": "DlbJQLnPm36F",
        "outputId": "8c75c44b-9f29-42f7-f006-7745580ff5cf"
      },
      "source": [
        "conta_do_guilherme <= conta_do_guilherme"
      ],
      "execution_count": 82,
      "outputs": [
        {
          "output_type": "execute_result",
          "data": {
            "text/plain": [
              "True"
            ]
          },
          "metadata": {},
          "execution_count": 82
        }
      ]
    }
  ]
}