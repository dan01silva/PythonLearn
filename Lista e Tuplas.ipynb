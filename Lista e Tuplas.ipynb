{
  "nbformat": 4,
  "nbformat_minor": 0,
  "metadata": {
    "colab": {
      "name": "Polimorfismo.ipynb",
      "provenance": [],
      "collapsed_sections": [],
      "authorship_tag": "ABX9TyN+xujrzIA1dVRXwbCeBhzK"
    },
    "kernelspec": {
      "name": "python3",
      "display_name": "Python 3"
    },
    "language_info": {
      "name": "python"
    }
  },
  "cells": [
    {
      "cell_type": "code",
      "metadata": {
        "id": "03j-138GtOpE"
      },
      "source": [
        "class Conta:\n",
        "\n",
        "  def __init__(self, codigo):\n",
        "    self._codigo = codigo\n",
        "    self._saldo = 0\n",
        "\n",
        "  def deposita(self, valor):\n",
        "    self._saldo += valor\n",
        "  \n",
        "  def __str__(self):\n",
        "    return \"[>> Código da conta: {} Saldo: {} <<]\".format(self._codigo, self._saldo)"
      ],
      "execution_count": null,
      "outputs": []
    },
    {
      "cell_type": "code",
      "metadata": {
        "colab": {
          "base_uri": "https://localhost:8080/"
        },
        "id": "ocv5Unb3xEAi",
        "outputId": "252060d5-0468-45d4-b607-2dac9b21b63b"
      },
      "source": [
        "print(Conta(88))"
      ],
      "execution_count": null,
      "outputs": [
        {
          "output_type": "stream",
          "name": "stdout",
          "text": [
            "[>> Código da conta: 88 Saldo: 0 <<]\n"
          ]
        }
      ]
    },
    {
      "cell_type": "code",
      "metadata": {
        "id": "CE15BI9hx9xR"
      },
      "source": [
        "class ContaCorrente(Conta):\n",
        "  def passa_o_mes(self):\n",
        "    self._saldo -= 2\n",
        "\n",
        "class ContaPoupança(Conta):\n",
        "  def passa_o_mes(self):\n",
        "    self._saldo *= 1.01\n",
        "    self._saldo -= 3"
      ],
      "execution_count": null,
      "outputs": []
    },
    {
      "cell_type": "code",
      "metadata": {
        "colab": {
          "base_uri": "https://localhost:8080/"
        },
        "id": "WBf0GgJWy5wQ",
        "outputId": "30a902d5-e23f-4aee-c88b-4ad8b152f8c1"
      },
      "source": [
        "conta16 = ContaCorrente(16)\n",
        "conta16.deposita(2300)\n",
        "conta16.passa_o_mes()\n",
        "print(conta16)"
      ],
      "execution_count": null,
      "outputs": [
        {
          "output_type": "stream",
          "name": "stdout",
          "text": [
            "[>> Código da conta: 16 Saldo: 2298 <<]\n"
          ]
        }
      ]
    },
    {
      "cell_type": "code",
      "metadata": {
        "colab": {
          "base_uri": "https://localhost:8080/"
        },
        "id": "zhpt5REtzUet",
        "outputId": "7e009d6e-118e-4d5a-ae0b-501b8639e84e"
      },
      "source": [
        "conta17 = ContaPoupança(17)\n",
        "conta17.deposita(1500)\n",
        "conta17.passa_o_mes()\n",
        "print(conta17)\n",
        "\n",
        "for conta is contas:\n",
        "  conta.passa_o_mes()t\n",
        "  print(conta)"
      ],
      "execution_count": null,
      "outputs": [
        {
          "output_type": "stream",
          "name": "stdout",
          "text": [
            "[>> Código da conta: 17 Saldo: 1512.0 <<]\n"
          ]
        }
      ]
    },
    {
      "cell_type": "markdown",
      "metadata": {
        "id": "tpRdhM1Y1z3M"
      },
      "source": [
        "#Quando quisermos utilizar array, para trabalhar com númericos costume usar NUMPY"
      ]
    },
    {
      "cell_type": "code",
      "metadata": {
        "colab": {
          "base_uri": "https://localhost:8080/"
        },
        "id": "wpcd5Ygz0uDB",
        "outputId": "698d230b-8b70-45a4-aa9a-0ebed72931cb"
      },
      "source": [
        "!pip install numpy"
      ],
      "execution_count": null,
      "outputs": [
        {
          "output_type": "stream",
          "name": "stdout",
          "text": [
            "Requirement already satisfied: numpy in /usr/local/lib/python3.7/dist-packages (1.19.5)\n"
          ]
        }
      ]
    },
    {
      "cell_type": "code",
      "metadata": {
        "id": "wcLi6Eis1sKP"
      },
      "source": [
        "import array as array"
      ],
      "execution_count": null,
      "outputs": []
    },
    {
      "cell_type": "code",
      "metadata": {
        "id": "UZzvbHdH2A02"
      },
      "source": [
        ""
      ],
      "execution_count": null,
      "outputs": []
    }
  ]
}