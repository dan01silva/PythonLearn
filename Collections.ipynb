{
  "nbformat": 4,
  "nbformat_minor": 0,
  "metadata": {
    "colab": {
      "name": "Collections",
      "provenance": [],
      "collapsed_sections": [
        "ptY_CYS745-l",
        "L5L9UtLR5BTB",
        "fp4Cs1rhb4RV"
      ],
      "authorship_tag": "ABX9TyN5sHsZWM1RKsLBCsCRBLW2",
      "include_colab_link": true
    },
    "kernelspec": {
      "name": "python3",
      "display_name": "Python 3"
    },
    "language_info": {
      "name": "python"
    }
  },
  "cells": [
    {
      "cell_type": "markdown",
      "metadata": {
        "id": "view-in-github",
        "colab_type": "text"
      },
      "source": [
        "<a href=\"https://colab.research.google.com/github/dan01silva/PythonLearn/blob/collections/Collections.ipynb\" target=\"_parent\"><img src=\"https://colab.research.google.com/assets/colab-badge.svg\" alt=\"Open In Colab\"/></a>"
      ]
    },
    {
      "cell_type": "code",
      "metadata": {
        "id": "Uca5aot889pW"
      },
      "source": [
        "usuarios_data_science = [15, 13, 45, 56, 23]\n",
        "usuarios_machine_learn =  [11, 54, 64, 34, 23]"
      ],
      "execution_count": null,
      "outputs": []
    },
    {
      "cell_type": "code",
      "metadata": {
        "colab": {
          "base_uri": "https://localhost:8080/"
        },
        "id": "tr7Vi-FeDuqq",
        "outputId": "0d4d6405-91ff-4515-e2ec-d96b3b790d24"
      },
      "source": [
        "assistiram = usuarios_machine_learn.copy()\n",
        "assistiram.extend(usuarios_data_science)\n",
        "assistiram"
      ],
      "execution_count": null,
      "outputs": [
        {
          "output_type": "execute_result",
          "data": {
            "text/plain": [
              "[11, 54, 64, 34, 23, 15, 13, 45, 56, 23]"
            ]
          },
          "metadata": {},
          "execution_count": 9
        }
      ]
    },
    {
      "cell_type": "code",
      "metadata": {
        "colab": {
          "base_uri": "https://localhost:8080/"
        },
        "id": "8HX5qvjZD8md",
        "outputId": "886fcf99-da99-4437-a231-5a17fef64572"
      },
      "source": [
        "len(assistiram)"
      ],
      "execution_count": null,
      "outputs": [
        {
          "output_type": "execute_result",
          "data": {
            "text/plain": [
              "10"
            ]
          },
          "metadata": {},
          "execution_count": 10
        }
      ]
    },
    {
      "cell_type": "markdown",
      "metadata": {
        "id": "p0a7YV0wFOuF"
      },
      "source": [
        "#SET - Conjunto"
      ]
    },
    {
      "cell_type": "code",
      "metadata": {
        "colab": {
          "base_uri": "https://localhost:8080/"
        },
        "id": "suky1k8rFCUT",
        "outputId": "a297fe8f-5171-473b-9c8b-764d190dc3b0"
      },
      "source": [
        "set(assistiram)"
      ],
      "execution_count": null,
      "outputs": [
        {
          "output_type": "execute_result",
          "data": {
            "text/plain": [
              "{11, 13, 15, 23, 34, 45, 54, 56, 64}"
            ]
          },
          "metadata": {},
          "execution_count": 16
        }
      ]
    },
    {
      "cell_type": "code",
      "metadata": {
        "id": "9PEQeSMKFt6U",
        "colab": {
          "base_uri": "https://localhost:8080/"
        },
        "outputId": "233fbc4d-16b5-40b2-a47f-eef50c65291c"
      },
      "source": [
        "for usuario in set(assistiram):\n",
        "  print(usuario)"
      ],
      "execution_count": 19,
      "outputs": [
        {
          "output_type": "stream",
          "name": "stdout",
          "text": [
            "64\n",
            "34\n",
            "11\n",
            "13\n",
            "45\n",
            "15\n",
            "54\n",
            "23\n",
            "56\n"
          ]
        }
      ]
    },
    {
      "cell_type": "code",
      "metadata": {
        "id": "nqlPxw-nHHOM"
      },
      "source": [
        "usuarios_data_science = {15, 13,56 ,45, 56, 23}\n",
        "usuarios_machine_learn =  {11, 23, 54, 64,56 ,34, 23}"
      ],
      "execution_count": 32,
      "outputs": []
    },
    {
      "cell_type": "code",
      "metadata": {
        "colab": {
          "base_uri": "https://localhost:8080/"
        },
        "id": "1a3Zvta1HgFh",
        "outputId": "3f76191e-8a9b-40d6-d6a8-f3bbef635d21"
      },
      "source": [
        "usuarios_data_science | usuarios_machine_learn # Operador OU, Union"
      ],
      "execution_count": 33,
      "outputs": [
        {
          "output_type": "execute_result",
          "data": {
            "text/plain": [
              "{11, 13, 15, 23, 34, 45, 54, 56, 64}"
            ]
          },
          "metadata": {},
          "execution_count": 33
        }
      ]
    },
    {
      "cell_type": "code",
      "metadata": {
        "colab": {
          "base_uri": "https://localhost:8080/"
        },
        "id": "I4Iq5MK8ICMs",
        "outputId": "85c94edf-8987-43b0-bbb4-48f8570e5390"
      },
      "source": [
        "usuarios_data_science & usuarios_machine_learn # Operador E comercial, Em cocomim"
      ],
      "execution_count": 34,
      "outputs": [
        {
          "output_type": "execute_result",
          "data": {
            "text/plain": [
              "{23, 56}"
            ]
          },
          "metadata": {},
          "execution_count": 34
        }
      ]
    },
    {
      "cell_type": "code",
      "metadata": {
        "colab": {
          "base_uri": "https://localhost:8080/"
        },
        "id": "J91bxwiEIiSz",
        "outputId": "1574242c-16d7-4648-a62c-12e35ba61c0c"
      },
      "source": [
        "usuarios_data_science - usuarios_machine_learn # Operador menos, trouxe a diferena do 1° para o 2°"
      ],
      "execution_count": 35,
      "outputs": [
        {
          "output_type": "execute_result",
          "data": {
            "text/plain": [
              "{13, 15, 45}"
            ]
          },
          "metadata": {},
          "execution_count": 35
        }
      ]
    },
    {
      "cell_type": "code",
      "metadata": {
        "colab": {
          "base_uri": "https://localhost:8080/"
        },
        "id": "VaVHNua_JOkP",
        "outputId": "58d1b76e-371c-4d41-f6d9-9949423b6ab3"
      },
      "source": [
        "usuarios_data_science ^ usuarios_machine_learn #Operador ^, trouxe "
      ],
      "execution_count": 36,
      "outputs": [
        {
          "output_type": "execute_result",
          "data": {
            "text/plain": [
              "{11, 13, 15, 34, 45, 54, 64}"
            ]
          },
          "metadata": {},
          "execution_count": 36
        }
      ]
    },
    {
      "cell_type": "code",
      "metadata": {
        "colab": {
          "base_uri": "https://localhost:8080/"
        },
        "id": "votQVKMDI0ME",
        "outputId": "1cdf6c44-7bc0-4ce7-b6f0-7ca33c395590"
      },
      "source": [
        "fez_ds_mas_fez_mal = usuarios_data_science ^ usuarios_machine_learn\n",
        "15 in fez_ds_mas_fez_mal"
      ],
      "execution_count": 37,
      "outputs": [
        {
          "output_type": "execute_result",
          "data": {
            "text/plain": [
              "True"
            ]
          },
          "metadata": {},
          "execution_count": 37
        }
      ]
    },
    {
      "cell_type": "code",
      "metadata": {
        "colab": {
          "base_uri": "https://localhost:8080/"
        },
        "id": "NYdlt0Z9PWiS",
        "outputId": "df3f1aa5-1fe4-4a55-f815-5d095988ccbd"
      },
      "source": [
        "usuarios = {1, 5, 6, 15, 7, 18, 35}\n",
        "len(usuarios)"
      ],
      "execution_count": 38,
      "outputs": [
        {
          "output_type": "execute_result",
          "data": {
            "text/plain": [
              "7"
            ]
          },
          "metadata": {},
          "execution_count": 38
        }
      ]
    },
    {
      "cell_type": "code",
      "metadata": {
        "colab": {
          "base_uri": "https://localhost:8080/"
        },
        "id": "wYzrrE6vWJrZ",
        "outputId": "6f0fb017-043c-4f0d-9a04-11763e62f8cf"
      },
      "source": [
        "usuarios.add(13) #Conjunto são mutáveis, mas podemos congelar cm o comando frozenset(conjuntoxpto), que te devolve um novo conjunto\n",
        "len(usuarios)"
      ],
      "execution_count": 40,
      "outputs": [
        {
          "output_type": "execute_result",
          "data": {
            "text/plain": [
              "8"
            ]
          },
          "metadata": {},
          "execution_count": 40
        }
      ]
    },
    {
      "cell_type": "code",
      "metadata": {
        "id": "tvWMRKehWkpL"
      },
      "source": [
        "usuarios = frozenset(usuarios)"
      ],
      "execution_count": 41,
      "outputs": []
    },
    {
      "cell_type": "code",
      "metadata": {
        "colab": {
          "base_uri": "https://localhost:8080/",
          "height": 165
        },
        "id": "js_TjHeBWr3s",
        "outputId": "8a5be32a-6f92-4fb4-84e9-7e8fe8e2b14f"
      },
      "source": [
        "usuarios.add(12)"
      ],
      "execution_count": 42,
      "outputs": [
        {
          "output_type": "error",
          "ename": "AttributeError",
          "evalue": "ignored",
          "traceback": [
            "\u001b[0;31m---------------------------------------------------------------------------\u001b[0m",
            "\u001b[0;31mAttributeError\u001b[0m                            Traceback (most recent call last)",
            "\u001b[0;32m<ipython-input-42-d3b7432f22c4>\u001b[0m in \u001b[0;36m<module>\u001b[0;34m()\u001b[0m\n\u001b[0;32m----> 1\u001b[0;31m \u001b[0musuarios\u001b[0m\u001b[0;34m.\u001b[0m\u001b[0madd\u001b[0m\u001b[0;34m(\u001b[0m\u001b[0;36m12\u001b[0m\u001b[0;34m)\u001b[0m\u001b[0;34m\u001b[0m\u001b[0;34m\u001b[0m\u001b[0m\n\u001b[0m",
            "\u001b[0;31mAttributeError\u001b[0m: 'frozenset' object has no attribute 'add'"
          ]
        }
      ]
    },
    {
      "cell_type": "code",
      "metadata": {
        "colab": {
          "base_uri": "https://localhost:8080/"
        },
        "id": "rSJR_MP0WvNu",
        "outputId": "17c48dc3-646a-4b13-e123-b5f56dfe8e53"
      },
      "source": [
        "meu_texto = \"Bem vindo meu nome é Daniel e eu gosto jogar League Of Legends meu jogo tem dificuldades\"\n",
        "meu_texto.split()"
      ],
      "execution_count": 45,
      "outputs": [
        {
          "output_type": "execute_result",
          "data": {
            "text/plain": [
              "['Bem',\n",
              " 'vindo',\n",
              " 'meu',\n",
              " 'nome',\n",
              " 'é',\n",
              " 'Daniel',\n",
              " 'e',\n",
              " 'eu',\n",
              " 'gosto',\n",
              " 'jogar',\n",
              " 'League',\n",
              " 'Of',\n",
              " 'Legends',\n",
              " 'meu',\n",
              " 'jogo',\n",
              " 'tem',\n",
              " 'dificuldades']"
            ]
          },
          "metadata": {},
          "execution_count": 45
        }
      ]
    },
    {
      "cell_type": "markdown",
      "metadata": {
        "id": "ptY_CYS745-l"
      },
      "source": [
        "######Default Dict"
      ]
    },
    {
      "cell_type": "code",
      "metadata": {
        "colab": {
          "base_uri": "https://localhost:8080/"
        },
        "id": "Pm31HXJHo5yy",
        "outputId": "5bf4d4d0-a9bb-4e74-8d63-8e65c12f24af"
      },
      "source": [
        "meu_texto = meu_texto.lower()\n",
        "\n",
        "aparicoes = {}\n",
        "\n",
        "for palavra in meu_texto.split():\n",
        "  print(palavra)\n",
        "  ate_agora = aparicoes.get(palavra, 0)#procurando palavra no dicionario\n",
        "  print(ate_agora)\n",
        "  aparicoes[palavra] = ate_agora + 1#guardando chave e valor no dicionario\n",
        "\n",
        "aparicoes"
      ],
      "execution_count": 93,
      "outputs": [
        {
          "output_type": "stream",
          "name": "stdout",
          "text": [
            "bem\n",
            "0\n",
            "vindo\n",
            "0\n",
            "meu\n",
            "0\n",
            "nome\n",
            "0\n",
            "é\n",
            "0\n",
            "daniel\n",
            "0\n",
            "e\n",
            "0\n",
            "eu\n",
            "0\n",
            "gosto\n",
            "0\n",
            "jogar\n",
            "0\n",
            "league\n",
            "0\n",
            "of\n",
            "0\n",
            "legends\n",
            "0\n",
            "meu\n",
            "1\n",
            "jogo\n",
            "0\n",
            "tem\n",
            "0\n",
            "dificuldades\n",
            "0\n"
          ]
        },
        {
          "output_type": "execute_result",
          "data": {
            "text/plain": [
              "{'bem': 1,\n",
              " 'daniel': 1,\n",
              " 'dificuldades': 1,\n",
              " 'e': 1,\n",
              " 'eu': 1,\n",
              " 'gosto': 1,\n",
              " 'jogar': 1,\n",
              " 'jogo': 1,\n",
              " 'league': 1,\n",
              " 'legends': 1,\n",
              " 'meu': 2,\n",
              " 'nome': 1,\n",
              " 'of': 1,\n",
              " 'tem': 1,\n",
              " 'vindo': 1,\n",
              " 'é': 1}"
            ]
          },
          "metadata": {},
          "execution_count": 93
        }
      ]
    },
    {
      "cell_type": "code",
      "metadata": {
        "colab": {
          "base_uri": "https://localhost:8080/"
        },
        "id": "Fpp6eK8ZvJdd",
        "outputId": "b027f359-0512-40b9-cded-1cf358d1b468"
      },
      "source": [
        "from collections import defaultdict\n",
        "\n",
        "aparicoes = defaultdict(int) #definindo o valor padrão no dicionario\n",
        "\n",
        "for palavra in meu_texto.split():\n",
        "  ate_agora = aparicoes[palavra]\n",
        "  aparicoes[palavra] = ate_agora + 1\n",
        "\n",
        "aparicoes"
      ],
      "execution_count": 103,
      "outputs": [
        {
          "output_type": "execute_result",
          "data": {
            "text/plain": [
              "defaultdict(int,\n",
              "            {'bem': 1,\n",
              "             'daniel': 1,\n",
              "             'dificuldades': 1,\n",
              "             'e': 1,\n",
              "             'eu': 1,\n",
              "             'gosto': 1,\n",
              "             'jogar': 1,\n",
              "             'jogo': 1,\n",
              "             'league': 1,\n",
              "             'legends': 1,\n",
              "             'meu': 2,\n",
              "             'nome': 1,\n",
              "             'of': 1,\n",
              "             'tem': 1,\n",
              "             'vindo': 1,\n",
              "             'é': 1})"
            ]
          },
          "metadata": {},
          "execution_count": 103
        }
      ]
    },
    {
      "cell_type": "code",
      "metadata": {
        "colab": {
          "base_uri": "https://localhost:8080/"
        },
        "id": "JcM3DI3v1hxt",
        "outputId": "79a755df-9cad-48f6-f97d-387e7a25391c"
      },
      "source": [
        "aparicoes = defaultdict(int)\n",
        "\n",
        "for palavra in meu_texto.split():\n",
        "  aparicoes[palavra] += 1 #simplificando\n",
        "\n",
        "aparicoes"
      ],
      "execution_count": 104,
      "outputs": [
        {
          "output_type": "execute_result",
          "data": {
            "text/plain": [
              "defaultdict(int,\n",
              "            {'bem': 1,\n",
              "             'daniel': 1,\n",
              "             'dificuldades': 1,\n",
              "             'e': 1,\n",
              "             'eu': 1,\n",
              "             'gosto': 1,\n",
              "             'jogar': 1,\n",
              "             'jogo': 1,\n",
              "             'league': 1,\n",
              "             'legends': 1,\n",
              "             'meu': 2,\n",
              "             'nome': 1,\n",
              "             'of': 1,\n",
              "             'tem': 1,\n",
              "             'vindo': 1,\n",
              "             'é': 1})"
            ]
          },
          "metadata": {},
          "execution_count": 104
        }
      ]
    },
    {
      "cell_type": "markdown",
      "metadata": {
        "id": "L5L9UtLR5BTB"
      },
      "source": [
        "######Counter"
      ]
    },
    {
      "cell_type": "code",
      "metadata": {
        "colab": {
          "base_uri": "https://localhost:8080/"
        },
        "id": "9HZe2iTH3BfB",
        "outputId": "8d662332-4fcb-4650-da48-f6a12a7f645b"
      },
      "source": [
        "from collections import Counter\n",
        "\n",
        "aparicoes = Counter(meu_texto.split()) \n",
        "\n",
        "#Utilizando contador o próprio contador da classe collections\n",
        "\n",
        "aparicoes"
      ],
      "execution_count": 107,
      "outputs": [
        {
          "output_type": "execute_result",
          "data": {
            "text/plain": [
              "Counter({'bem': 1,\n",
              "         'daniel': 1,\n",
              "         'dificuldades': 1,\n",
              "         'e': 1,\n",
              "         'eu': 1,\n",
              "         'gosto': 1,\n",
              "         'jogar': 1,\n",
              "         'jogo': 1,\n",
              "         'league': 1,\n",
              "         'legends': 1,\n",
              "         'meu': 2,\n",
              "         'nome': 1,\n",
              "         'of': 1,\n",
              "         'tem': 1,\n",
              "         'vindo': 1,\n",
              "         'é': 1})"
            ]
          },
          "metadata": {},
          "execution_count": 107
        }
      ]
    },
    {
      "cell_type": "code",
      "metadata": {
        "colab": {
          "base_uri": "https://localhost:8080/"
        },
        "id": "rF0vzqNR1BTE",
        "outputId": "df8ec51c-7037-437e-c278-0b8a34ca2d30"
      },
      "source": [
        "dicionario = defaultdict(int)\n",
        "dicionario[\"guilherme\"]\n",
        "dicionario"
      ],
      "execution_count": 102,
      "outputs": [
        {
          "output_type": "execute_result",
          "data": {
            "text/plain": [
              "defaultdict(int, {'guilherme': 0})"
            ]
          },
          "metadata": {},
          "execution_count": 102
        }
      ]
    },
    {
      "cell_type": "markdown",
      "metadata": {
        "id": "fp4Cs1rhb4RV"
      },
      "source": [
        "###Dicionario\n",
        "####Mapa"
      ]
    },
    {
      "cell_type": "code",
      "metadata": {
        "colab": {
          "base_uri": "https://localhost:8080/"
        },
        "id": "ZdjshrsOcDPm",
        "outputId": "61c8430e-32b3-4f72-9021-af520b0b05ac"
      },
      "source": [
        "aparicoes = {\n",
        "  \"Guilherme\": 1,\n",
        "  \"Cachorro\" : 2,\n",
        "  \"Nome\" : 2,\n",
        "  \"Vindo\" : 1\n",
        "}\n",
        "\n",
        "type(aparicoes)"
      ],
      "execution_count": 51,
      "outputs": [
        {
          "output_type": "execute_result",
          "data": {
            "text/plain": [
              "dict"
            ]
          },
          "metadata": {},
          "execution_count": 51
        }
      ]
    },
    {
      "cell_type": "code",
      "metadata": {
        "colab": {
          "base_uri": "https://localhost:8080/"
        },
        "id": "5XWQVz9PmNim",
        "outputId": "ef43957d-c7c0-4f63-b254-735652fc8b12"
      },
      "source": [
        "aparicoes = dict(Guilherme=1, Cachorro=2, Nome=2, Vindo=1)\n",
        "print(aparicoes)"
      ],
      "execution_count": 87,
      "outputs": [
        {
          "output_type": "stream",
          "name": "stdout",
          "text": [
            "{'Guilherme': 1, 'Cachorro': 2, 'Nome': 2, 'Vindo': 1}\n"
          ]
        }
      ]
    },
    {
      "cell_type": "code",
      "metadata": {
        "colab": {
          "base_uri": "https://localhost:8080/"
        },
        "id": "G_J-xbN3dE0-",
        "outputId": "0df9032c-d1ad-4559-a9d2-04e320a582b9"
      },
      "source": [
        "aparicoes[\"Guilherme\"]"
      ],
      "execution_count": 53,
      "outputs": [
        {
          "output_type": "execute_result",
          "data": {
            "text/plain": [
              "1"
            ]
          },
          "metadata": {},
          "execution_count": 53
        }
      ]
    },
    {
      "cell_type": "code",
      "metadata": {
        "colab": {
          "base_uri": "https://localhost:8080/",
          "height": 165
        },
        "id": "KOOiZw6qdrjI",
        "outputId": "29cadf7d-0bee-4186-b9f5-4fa412c23f5c"
      },
      "source": [
        "aparicoes[\"xpto\"]"
      ],
      "execution_count": 57,
      "outputs": [
        {
          "output_type": "error",
          "ename": "KeyError",
          "evalue": "ignored",
          "traceback": [
            "\u001b[0;31m---------------------------------------------------------------------------\u001b[0m",
            "\u001b[0;31mKeyError\u001b[0m                                  Traceback (most recent call last)",
            "\u001b[0;32m<ipython-input-57-5844a27a46e4>\u001b[0m in \u001b[0;36m<module>\u001b[0;34m()\u001b[0m\n\u001b[0;32m----> 1\u001b[0;31m \u001b[0maparicoes\u001b[0m\u001b[0;34m[\u001b[0m\u001b[0;34m\"xpto\"\u001b[0m\u001b[0;34m]\u001b[0m\u001b[0;34m\u001b[0m\u001b[0;34m\u001b[0m\u001b[0m\n\u001b[0m",
            "\u001b[0;31mKeyError\u001b[0m: 'xpto'"
          ]
        }
      ]
    },
    {
      "cell_type": "code",
      "metadata": {
        "colab": {
          "base_uri": "https://localhost:8080/"
        },
        "id": "FDnibRavfeld",
        "outputId": "9638421d-8339-45de-fa28-65dad3134718"
      },
      "source": [
        "aparicoes.get(\"xpto\", 0) # trás o value default caso nao encontre a Key"
      ],
      "execution_count": 58,
      "outputs": [
        {
          "output_type": "execute_result",
          "data": {
            "text/plain": [
              "0"
            ]
          },
          "metadata": {},
          "execution_count": 58
        }
      ]
    },
    {
      "cell_type": "code",
      "metadata": {
        "colab": {
          "base_uri": "https://localhost:8080/"
        },
        "id": "BgVDDGfSffre",
        "outputId": "b507a144-646d-47cc-8170-3508b421fb49"
      },
      "source": [
        "aparicoes"
      ],
      "execution_count": 59,
      "outputs": [
        {
          "output_type": "execute_result",
          "data": {
            "text/plain": [
              "{'Cachorro': 2, 'Guilherme': 1, 'Nome': 2, 'Vindo': 1}"
            ]
          },
          "metadata": {},
          "execution_count": 59
        }
      ]
    },
    {
      "cell_type": "code",
      "metadata": {
        "id": "zVOfUHsZeHyr"
      },
      "source": [
        "del aparicoes[\"Vindo\"]"
      ],
      "execution_count": null,
      "outputs": []
    },
    {
      "cell_type": "code",
      "metadata": {
        "colab": {
          "base_uri": "https://localhost:8080/"
        },
        "id": "mgMUkNaEfxCQ",
        "outputId": "6f0b923d-3f12-40a0-fa27-2ad7c2e41961"
      },
      "source": [
        "\"Cachorro\" in aparicoes"
      ],
      "execution_count": 65,
      "outputs": [
        {
          "output_type": "execute_result",
          "data": {
            "text/plain": [
              "True"
            ]
          },
          "metadata": {},
          "execution_count": 65
        }
      ]
    },
    {
      "cell_type": "code",
      "metadata": {
        "colab": {
          "base_uri": "https://localhost:8080/"
        },
        "id": "L0grx22nf2Kp",
        "outputId": "9a23aaa3-76a2-4d15-a1f3-1ff06769c52e"
      },
      "source": [
        "for elemento in aparicoes:\n",
        "  print(elemento)"
      ],
      "execution_count": 66,
      "outputs": [
        {
          "output_type": "stream",
          "name": "stdout",
          "text": [
            "Guilherme\n",
            "Cachorro\n",
            "Nome\n"
          ]
        }
      ]
    },
    {
      "cell_type": "code",
      "metadata": {
        "colab": {
          "base_uri": "https://localhost:8080/"
        },
        "id": "mHRu-feoiBg2",
        "outputId": "cc1fb39a-ab70-41fc-c3aa-467d8555126c"
      },
      "source": [
        "for key in aparicoes.keys():\n",
        "  print(key,\"-\", aparicoes[key])"
      ],
      "execution_count": 78,
      "outputs": [
        {
          "output_type": "stream",
          "name": "stdout",
          "text": [
            "Guilherme - 1\n",
            "Cachorro - 2\n",
            "Nome - 2\n"
          ]
        }
      ]
    },
    {
      "cell_type": "code",
      "metadata": {
        "colab": {
          "base_uri": "https://localhost:8080/"
        },
        "id": "Fg8D0QK7jmSr",
        "outputId": "d16367db-9fc7-4a02-d804-34e841bfd37b"
      },
      "source": [
        "for key in aparicoes.items():\n",
        "  print(key)"
      ],
      "execution_count": 81,
      "outputs": [
        {
          "output_type": "stream",
          "name": "stdout",
          "text": [
            "('Guilherme', 1)\n",
            "('Cachorro', 2)\n",
            "('Nome', 2)\n"
          ]
        }
      ]
    },
    {
      "cell_type": "code",
      "metadata": {
        "colab": {
          "base_uri": "https://localhost:8080/"
        },
        "id": "3Mw9Am-ajwhQ",
        "outputId": "34f94e71-7afd-4fc2-8955-569f168236fe"
      },
      "source": [
        "for key, value in aparicoes.items():\n",
        "  print(key, \"-\", value)"
      ],
      "execution_count": 82,
      "outputs": [
        {
          "output_type": "stream",
          "name": "stdout",
          "text": [
            "Guilherme - 1\n",
            "Cachorro - 2\n",
            "Nome - 2\n"
          ]
        }
      ]
    },
    {
      "cell_type": "code",
      "metadata": {
        "colab": {
          "base_uri": "https://localhost:8080/"
        },
        "id": "Tq6p5XNVkOBr",
        "outputId": "7a46eb0d-b807-4bf1-ee03-439d40fe32c5"
      },
      "source": [
        "[\"palavra {}\".format(key) for key in aparicoes.keys()]"
      ],
      "execution_count": 83,
      "outputs": [
        {
          "output_type": "execute_result",
          "data": {
            "text/plain": [
              "['palavra Guilherme', 'palavra Cachorro', 'palavra Nome']"
            ]
          },
          "metadata": {},
          "execution_count": 83
        }
      ]
    },
    {
      "cell_type": "markdown",
      "metadata": {
        "id": "bDpmZ8IG7Kg2"
      },
      "source": [
        "###Contador de frequência de letras no texto"
      ]
    },
    {
      "cell_type": "code",
      "metadata": {
        "id": "5YqSPRuQ7Y4q"
      },
      "source": [
        "texto1 = \"\"\"Cada vez mais as empresas precisam lidar com uma quantidade enorme de dados não estruturados, ou seja, dados que não podem ser armazenados em tabelas, com linhas e colunas. Devido a grande quantidade de dados não estruturados e a grande necessidade das empresas trabalharem com esses dados, surgiram os bancos de dados não relacionais ou banco de dados NoSQL.\n",
        "\n",
        "Os bancos de dados NoSQL não tem um esquema fixo, como tabelas, colunas ou linhas. Assim, as empresas podem trabalhar e armazenar os seus dados não estruturados sem grandes problemas, já que existem vários tipos de bancos de dados NoSQL, que trabalham de formas diferentes. Desse modo, as empresas têm uma variedade de opções, podendo escolher o que melhor se adequa a sua necessidade.\n",
        "\n",
        "Neste artigo, escolhemos dois dos bancos de dados mais conhecidos do mundo NoSQL: o MongoDB, que é um banco de dados baseado em documentos, e o Cassandra, que é um banco de dados baseado em modelo de colunas. Vamos abordar sobre como cada banco de dados funciona e as vantagens e desvantagens de cada um.\n",
        "\n",
        "No Firebase Crashlytics, temos as chaves que funcionam como um dicionário. Como assim? As chaves são termos curtos que vamos procurar e achar com facilidade quando precisamos deles. Cada chave tem um valor, onde esse é um conceito longo e o máximo esclarecedor possível sobre aquela chave.\n",
        "\n",
        "Quando lidamos com erros no Crashlytics de forma genérica, às vezes pode ficar difícil de identificar o que gerou de fato esse problema. Qual era o contexto por trás daquela exceção? E é para isso que vamos usar esse conceito de chave-valor, onde no valor vamos mandar as informações sobre o ambiente que podem ter gerado aquela exceção.\n",
        "\"\"\""
      ],
      "execution_count": 138,
      "outputs": []
    },
    {
      "cell_type": "code",
      "metadata": {
        "id": "hA9ioarhBxen"
      },
      "source": [
        "def analisa_frequencia_de_letras(texto):\n",
        "  aparicoes = Counter(texto.lower())\n",
        "  total_de_caracteres = sum(aparicoes.values())\n",
        "\n",
        "  proporcoes = [(letra, frequencia / total_de_caracteres) for letra, frequencia in aparicoes.items()]#colocando as tupla com as frequencias dentro de uma lista\n",
        "  proporcoes = Counter(dict(proporcoes))\n",
        "  maior_freq = proporcoes.most_common(10)\n",
        "  for caractere, proporcao in maior_freq:\n",
        "    print(\"{} => {:.2f}%\".format(caractere, proporcao * 100));"
      ],
      "execution_count": 139,
      "outputs": []
    },
    {
      "cell_type": "code",
      "metadata": {
        "colab": {
          "base_uri": "https://localhost:8080/"
        },
        "id": "xCs0AINTD1xo",
        "outputId": "1ac0ba2b-5c30-46b0-8ca2-7c6c87f8a225"
      },
      "source": [
        "analisa_frequencia_de_letras(texto1)"
      ],
      "execution_count": 140,
      "outputs": [
        {
          "output_type": "stream",
          "name": "stdout",
          "text": [
            "  => 16.52%\n",
            "e => 10.04%\n",
            "a => 9.69%\n",
            "o => 8.97%\n",
            "s => 8.44%\n",
            "d => 6.42%\n",
            "r => 4.46%\n",
            "m => 4.16%\n",
            "n => 3.98%\n",
            "c => 3.80%\n"
          ]
        }
      ]
    }
  ]
}