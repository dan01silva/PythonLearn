{
  "nbformat": 4,
  "nbformat_minor": 0,
  "metadata": {
    "colab": {
      "name": "Lista e Tuplas.ipynb",
      "provenance": [],
      "collapsed_sections": [],
      "toc_visible": true,
      "authorship_tag": "ABX9TyNzHWjNb0MBpQy5xaStNpXA",
      "include_colab_link": true
    },
    "kernelspec": {
      "name": "python3",
      "display_name": "Python 3"
    },
    "language_info": {
      "name": "python"
    }
  },
  "cells": [
    {
      "cell_type": "markdown",
      "metadata": {
        "id": "view-in-github",
        "colab_type": "text"
      },
      "source": [
        "<a href=\"https://colab.research.google.com/github/dan01silva/PythonLearn/blob/main/Lista_e_Tuplas.ipynb\" target=\"_parent\"><img src=\"https://colab.research.google.com/assets/colab-badge.svg\" alt=\"Open In Colab\"/></a>"
      ]
    },
    {
      "cell_type": "markdown",
      "metadata": {
        "id": "al5sOyCwUx_n"
      },
      "source": [
        " **Lista**\n",
        "\n",
        "**Objetos proprios**"
      ]
    },
    {
      "cell_type": "code",
      "metadata": {
        "id": "a45BoDcOV1tu"
      },
      "source": [
        "class ContaCorrente:\n",
        "\n",
        "  def __init__(self, codigo):\n",
        "    self.codigo = codigo\n",
        "    self.saldo = 0\n",
        "\n",
        "  def deposita(self, valor):\n",
        "    self.saldo += valor\n",
        "  \n",
        "  def __str__(self):\n",
        "    return \"[>> Código da conta: {} Saldo: {} \".format(self.codigo, self.saldo)\n"
      ],
      "execution_count": null,
      "outputs": []
    },
    {
      "cell_type": "code",
      "metadata": {
        "colab": {
          "base_uri": "https://localhost:8080/"
        },
        "id": "y0Hq8X5EW53-",
        "outputId": "1e83f900-1b47-4539-debf-99769cc99d2d"
      },
      "source": [
        "conta_do_gui = ContaCorrente(15)\n",
        "print(conta_do_gui)"
      ],
      "execution_count": null,
      "outputs": [
        {
          "output_type": "stream",
          "name": "stdout",
          "text": [
            "[>> Código da conta: 15 Saldo: 0 \n"
          ]
        }
      ]
    },
    {
      "cell_type": "code",
      "metadata": {
        "colab": {
          "base_uri": "https://localhost:8080/"
        },
        "id": "dUurjN6VbGVm",
        "outputId": "00bc938c-6219-43f9-9923-ff48ef44d26e"
      },
      "source": [
        "conta_da_dani = ContaCorrente(47832)\n",
        "conta_da_dani.deposita(1500)\n",
        "print(conta_da_dani)"
      ],
      "execution_count": null,
      "outputs": [
        {
          "output_type": "stream",
          "name": "stdout",
          "text": [
            "[>> Código da conta: 47832 Saldo: 1500 \n"
          ]
        }
      ]
    },
    {
      "cell_type": "code",
      "metadata": {
        "colab": {
          "base_uri": "https://localhost:8080/"
        },
        "id": "HaosreF4bdRQ",
        "outputId": "f477bcd6-422d-4548-9006-80ad8b5c8b1b"
      },
      "source": [
        "contas = [conta_do_gui, conta_da_dani]\n",
        "for conta  in contas:\n",
        "  print(conta)"
      ],
      "execution_count": null,
      "outputs": [
        {
          "output_type": "stream",
          "name": "stdout",
          "text": [
            "[>> Código da conta: 15 Saldo: 0 \n",
            "[>> Código da conta: 47832 Saldo: 1500 \n"
          ]
        }
      ]
    },
    {
      "cell_type": "markdown",
      "metadata": {
        "id": "60B5JLKziIGZ"
      },
      "source": [
        "**Tupla**"
      ]
    },
    {
      "cell_type": "code",
      "metadata": {
        "id": "nmb91jhsjADB"
      },
      "source": [
        "daniel = ('Daniel', 20, 2000) #tupla\n",
        "daniela = ('Daniela', 21, 1999)\n"
      ],
      "execution_count": null,
      "outputs": []
    },
    {
      "cell_type": "code",
      "metadata": {
        "id": "0ci1z9JcjS1S"
      },
      "source": [
        "conta_do_gui = (15, 1000)\n",
        "\n",
        "def deposita(conta):\n",
        "  novo_saldo = conta_do_gui[1] + 100\n",
        "  codigo = conta_do_gui[0]\n",
        "  return(codigo, novo_saldo)"
      ],
      "execution_count": null,
      "outputs": []
    },
    {
      "cell_type": "code",
      "metadata": {
        "colab": {
          "base_uri": "https://localhost:8080/"
        },
        "id": "N792h95gj9a-",
        "outputId": "1dbdbe58-a03a-4aaf-b181-12ce574a269d"
      },
      "source": [
        "deposita(conta_do_gui)"
      ],
      "execution_count": null,
      "outputs": [
        {
          "output_type": "execute_result",
          "data": {
            "text/plain": [
              "(15, 1100)"
            ]
          },
          "metadata": {},
          "execution_count": 22
        }
      ]
    },
    {
      "cell_type": "code",
      "metadata": {
        "colab": {
          "base_uri": "https://localhost:8080/"
        },
        "id": "McH5Y_PLkFI9",
        "outputId": "b43bd86b-a345-447e-e799-bdb8a5d45282"
      },
      "source": [
        "conta_do_gui"
      ],
      "execution_count": null,
      "outputs": [
        {
          "output_type": "execute_result",
          "data": {
            "text/plain": [
              "(15, 1000)"
            ]
          },
          "metadata": {},
          "execution_count": 23
        }
      ]
    },
    {
      "cell_type": "markdown",
      "metadata": {
        "id": "UpZkB_7Nky_0"
      },
      "source": [
        "#Tupla dentro de listas"
      ]
    },
    {
      "cell_type": "code",
      "metadata": {
        "id": "Vk4NRLqglLFK"
      },
      "source": [
        "usuarios = [('Guilherme', 37, 1981), ('Daniel', 20, 2000)]"
      ],
      "execution_count": null,
      "outputs": []
    },
    {
      "cell_type": "code",
      "metadata": {
        "colab": {
          "base_uri": "https://localhost:8080/"
        },
        "id": "ngDHcenNlZNG",
        "outputId": "7141f364-2818-42e2-f804-8a8573f195dc"
      },
      "source": [
        "usuarios.append(('Paulo', 39, 1979))\n",
        "usuarios"
      ],
      "execution_count": null,
      "outputs": [
        {
          "output_type": "execute_result",
          "data": {
            "text/plain": [
              "[('Guilherme', 37, 1981),\n",
              " ('Daniel', 20, 2000),\n",
              " ('Paulo', 39, 1979),\n",
              " ('Paulo', 39, 1979)]"
            ]
          },
          "metadata": {},
          "execution_count": 29
        }
      ]
    },
    {
      "cell_type": "code",
      "metadata": {
        "colab": {
          "base_uri": "https://localhost:8080/",
          "height": 35
        },
        "id": "1eqqS9yvnZbS",
        "outputId": "e18ad94e-861b-4a53-8bab-5b035c90d7e4"
      },
      "source": [
        "usuarios[1][0]"
      ],
      "execution_count": null,
      "outputs": [
        {
          "output_type": "execute_result",
          "data": {
            "application/vnd.google.colaboratory.intrinsic+json": {
              "type": "string"
            },
            "text/plain": [
              "'Daniel'"
            ]
          },
          "metadata": {},
          "execution_count": 32
        }
      ]
    },
    {
      "cell_type": "code",
      "metadata": {
        "id": "K7JXuzQknlcB"
      },
      "source": [
        "conta_do_ale = ContaCorrente(123)\n",
        "conta_da_jani = ContaCorrente(245)\n",
        "conta_do_ale.deposita(340)\n",
        "conta_da_jani.deposita(390)\n",
        "\n",
        "contas_tupla = (conta_do_ale, conta_da_jani)"
      ],
      "execution_count": null,
      "outputs": []
    },
    {
      "cell_type": "code",
      "metadata": {
        "colab": {
          "base_uri": "https://localhost:8080/"
        },
        "id": "WN8Wr8q6oH0e",
        "outputId": "083190cf-903f-4be9-e6f7-95c6c00a1568"
      },
      "source": [
        "for conta in contas_tupla:\n",
        "  print(conta)"
      ],
      "execution_count": null,
      "outputs": [
        {
          "output_type": "stream",
          "name": "stdout",
          "text": [
            "[>> Código da conta: 123 Saldo: 740 \n",
            "[>> Código da conta: 245 Saldo: 390 \n"
          ]
        }
      ]
    },
    {
      "cell_type": "code",
      "metadata": {
        "id": "GjR9jQk4ppTi"
      },
      "source": [
        "contas_tupla[0].deposita(200)"
      ],
      "execution_count": null,
      "outputs": []
    }
  ]
}